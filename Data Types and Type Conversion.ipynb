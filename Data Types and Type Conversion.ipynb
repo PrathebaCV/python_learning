{
 "cells": [
  {
   "cell_type": "code",
   "execution_count": 1,
   "id": "49169b3e",
   "metadata": {},
   "outputs": [
    {
     "name": "stdout",
     "output_type": "stream",
     "text": [
      "20\n",
      "<class 'int'>\n"
     ]
    }
   ],
   "source": [
    "a = 20\n",
    "print(a)\n",
    "print(type(a))"
   ]
  },
  {
   "cell_type": "code",
   "execution_count": 2,
   "id": "cc89413f",
   "metadata": {},
   "outputs": [
    {
     "name": "stdout",
     "output_type": "stream",
     "text": [
      "2.5\n",
      "<class 'float'>\n"
     ]
    }
   ],
   "source": [
    "b=2.5\n",
    "print(b)\n",
    "print(type(b))"
   ]
  },
  {
   "cell_type": "code",
   "execution_count": 8,
   "id": "0fa49952",
   "metadata": {},
   "outputs": [
    {
     "name": "stdout",
     "output_type": "stream",
     "text": [
      "(2+3j)\n",
      "<class 'complex'>\n"
     ]
    }
   ],
   "source": [
    "c=2+3j\n",
    "print(c)\n",
    "print(type(c))"
   ]
  },
  {
   "cell_type": "code",
   "execution_count": 10,
   "id": "843b585a",
   "metadata": {},
   "outputs": [
    {
     "name": "stdout",
     "output_type": "stream",
     "text": [
      "True\n",
      "<class 'bool'>\n"
     ]
    }
   ],
   "source": [
    "d=True\n",
    "print(d)\n",
    "print(type(d))"
   ]
  },
  {
   "cell_type": "code",
   "execution_count": 12,
   "id": "e3f6c594",
   "metadata": {},
   "outputs": [
    {
     "name": "stdout",
     "output_type": "stream",
     "text": [
      "Rithu\n",
      "<class 'str'>\n"
     ]
    }
   ],
   "source": [
    "e=\"Rithu\"\n",
    "print(e)\n",
    "print(type(e))"
   ]
  },
  {
   "cell_type": "code",
   "execution_count": 19,
   "id": "a6dadeb7",
   "metadata": {},
   "outputs": [
    {
     "name": "stdout",
     "output_type": "stream",
     "text": [
      "My name is Tom 30 years oldMy hobby is writing\n"
     ]
    }
   ],
   "source": [
    "name='Tom'\n",
    "age=30\n",
    "hobby='writing'\n",
    "print('My name is',name,age,'years old''My hobby is',hobby)"
   ]
  },
  {
   "cell_type": "code",
   "execution_count": 24,
   "id": "89221f9c",
   "metadata": {},
   "outputs": [
    {
     "name": "stdout",
     "output_type": "stream",
     "text": [
      "My name is Tom, \n",
      "30 years old \n",
      "My hobby is writing\n"
     ]
    }
   ],
   "source": [
    "print('My name is %s, \\n%d years old \\nMy hobby is %s'%(name,age,hobby))"
   ]
  },
  {
   "cell_type": "code",
   "execution_count": 32,
   "id": "1137eab2",
   "metadata": {},
   "outputs": [
    {
     "name": "stdout",
     "output_type": "stream",
     "text": [
      "My name is Tom, \n",
      "30 years old, \n",
      "My hobby is writing\n"
     ]
    }
   ],
   "source": [
    "print('My name is {}, \\n{} years old, \\nMy hobby is {}'.format(name,age,hobby))"
   ]
  },
  {
   "cell_type": "code",
   "execution_count": 35,
   "id": "f35ac56a",
   "metadata": {},
   "outputs": [
    {
     "name": "stdout",
     "output_type": "stream",
     "text": [
      "10\n",
      "10\n",
      "<class 'str'>\n",
      "20\n",
      "20\n",
      "<class 'str'>\n",
      "1020\n",
      "<class 'str'>\n"
     ]
    }
   ],
   "source": [
    "a=input()\n",
    "print(a)\n",
    "print(type(a))\n",
    "b=input()\n",
    "print(b)\n",
    "print(type(b))\n",
    "c=a+b\n",
    "print(c)\n",
    "print(type(c))"
   ]
  },
  {
   "cell_type": "code",
   "execution_count": 44,
   "id": "b1097a80",
   "metadata": {},
   "outputs": [
    {
     "name": "stdout",
     "output_type": "stream",
     "text": [
      "11\n",
      "<class 'int'> 11\n",
      "<class 'str'>\n",
      "12\n",
      "<class 'int'> 12\n",
      "<class 'str'>\n",
      "<class 'int'> 1112\n",
      "<class 'str'>\n"
     ]
    }
   ],
   "source": [
    "a=input()\n",
    "print(int,a)\n",
    "print(type(a))\n",
    "b=input()\n",
    "print(int,b)\n",
    "print(type(b))\n",
    "c=a+b\n",
    "print(int,c)\n",
    "print(type(c))"
   ]
  },
  {
   "cell_type": "code",
   "execution_count": 45,
   "id": "7e052349",
   "metadata": {},
   "outputs": [
    {
     "name": "stdout",
     "output_type": "stream",
     "text": [
      "10\n",
      "10\n",
      "<class 'int'>\n",
      "20\n",
      "20\n",
      "<class 'int'>\n",
      "<class 'int'> 30\n",
      "<class 'int'>\n"
     ]
    }
   ],
   "source": [
    "a=int(input())\n",
    "print(a)\n",
    "print(type(a))\n",
    "b=int(input())\n",
    "print(b)\n",
    "print(type(b))\n",
    "c=a+b\n",
    "print(int,c)\n",
    "print(type(c))"
   ]
  },
  {
   "cell_type": "code",
   "execution_count": null,
   "id": "13dc52c0",
   "metadata": {},
   "outputs": [],
   "source": []
  }
 ],
 "metadata": {
  "kernelspec": {
   "display_name": "Python 3 (ipykernel)",
   "language": "python",
   "name": "python3"
  },
  "language_info": {
   "codemirror_mode": {
    "name": "ipython",
    "version": 3
   },
   "file_extension": ".py",
   "mimetype": "text/x-python",
   "name": "python",
   "nbconvert_exporter": "python",
   "pygments_lexer": "ipython3",
   "version": "3.10.12"
  }
 },
 "nbformat": 4,
 "nbformat_minor": 5
}
