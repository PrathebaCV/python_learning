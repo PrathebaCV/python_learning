{
 "cells": [
  {
   "cell_type": "code",
   "execution_count": null,
   "id": "9faf1f62",
   "metadata": {},
   "outputs": [],
   "source": [
    "from abc import ABC, abstractmethod\n",
    "\n",
    "class employee(ABC):\n",
    "    @abstractmethod\n",
    "     def empID(self):\n",
    "            pass\n",
    "    def empName(self):\n",
    "        print('Ram'):\n",
    "            \n",
    "class Company(Employee):"
   ]
  }
 ],
 "metadata": {
  "kernelspec": {
   "display_name": "Python 3 (ipykernel)",
   "language": "python",
   "name": "python3"
  },
  "language_info": {
   "codemirror_mode": {
    "name": "ipython",
    "version": 3
   },
   "file_extension": ".py",
   "mimetype": "text/x-python",
   "name": "python",
   "nbconvert_exporter": "python",
   "pygments_lexer": "ipython3",
   "version": "3.10.12"
  }
 },
 "nbformat": 4,
 "nbformat_minor": 5
}
