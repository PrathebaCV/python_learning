{
 "cells": [
  {
   "cell_type": "code",
   "execution_count": 2,
   "id": "ff8285bd",
   "metadata": {},
   "outputs": [
    {
     "name": "stdout",
     "output_type": "stream",
     "text": [
      "hello\n"
     ]
    }
   ],
   "source": [
    "print(\"hello\")"
   ]
  },
  {
   "cell_type": "code",
   "execution_count": 3,
   "id": "03b29f81",
   "metadata": {},
   "outputs": [],
   "source": [
    "var_1 = 5"
   ]
  },
  {
   "cell_type": "code",
   "execution_count": 7,
   "id": "096a1b5b",
   "metadata": {},
   "outputs": [],
   "source": [
    "var_2 = 6"
   ]
  },
  {
   "cell_type": "code",
   "execution_count": 5,
   "id": "a20402e9",
   "metadata": {},
   "outputs": [
    {
     "name": "stdout",
     "output_type": "stream",
     "text": [
      "6\n"
     ]
    }
   ],
   "source": [
    "print(var_1 + var_2)"
   ]
  },
  {
   "cell_type": "code",
   "execution_count": 4,
   "id": "6388eba7",
   "metadata": {},
   "outputs": [],
   "source": [
    "var_2 = 1"
   ]
  },
  {
   "cell_type": "code",
   "execution_count": null,
   "id": "169d543f",
   "metadata": {},
   "outputs": [],
   "source": []
  }
 ],
 "metadata": {
  "kernelspec": {
   "display_name": "Python 3",
   "language": "python",
   "name": "python3"
  },
  "language_info": {
   "codemirror_mode": {
    "name": "ipython",
    "version": 3
   },
   "file_extension": ".py",
   "mimetype": "text/x-python",
   "name": "python",
   "nbconvert_exporter": "python",
   "pygments_lexer": "ipython3",
   "version": "3.10.12"
  }
 },
 "nbformat": 4,
 "nbformat_minor": 5
}
