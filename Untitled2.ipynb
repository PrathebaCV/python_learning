{
 "cells": [
  {
   "cell_type": "code",
   "execution_count": 1,
   "id": "2da4200e",
   "metadata": {},
   "outputs": [
    {
     "name": "stdout",
     "output_type": "stream",
     "text": [
      "Missing numbers: {3, 6, 8, 9, 11, 13, 15, 17, 20}\n"
     ]
    }
   ],
   "source": [
    "# Full range of numbers\n",
    "full_range = set(range(1, 21))  # Numbers from 1 to 20\n",
    "\n",
    "# Subset of the range\n",
    "subset = {1, 2, 4, 5, 7, 10, 12, 14, 16, 18, 19}\n",
    "\n",
    "# Find missing numbers\n",
    "missing_numbers = full_range - subset\n",
    "print(\"Missing numbers:\", missing_numbers)\n"
   ]
  },
  {
   "cell_type": "code",
   "execution_count": 2,
   "id": "c5d42a86",
   "metadata": {},
   "outputs": [
    {
     "name": "stdout",
     "output_type": "stream",
     "text": [
      "Common words: {'powerful', 'programming', 'is', 'python', 'it'}\n"
     ]
    }
   ],
   "source": [
    "import string\n",
    "\n",
    "# Two sample paragraphs\n",
    "text1 = \"Python is a powerful programming language. It is widely used.\"\n",
    "text2 = \"Python programming is fun. It is powerful and easy to learn.\"\n",
    "\n",
    "# Clean and split into words\n",
    "words1 = set(text1.lower().translate(str.maketrans('', '', string.punctuation)).split())\n",
    "words2 = set(text2.lower().translate(str.maketrans('', '', string.punctuation)).split())\n",
    "\n",
    "# Find common words\n",
    "common_words = words1 & words2\n",
    "print(\"Common words:\", common_words)\n"
   ]
  },
  {
   "cell_type": "code",
   "execution_count": null,
   "id": "6802f613",
   "metadata": {},
   "outputs": [],
   "source": []
  }
 ],
 "metadata": {
  "kernelspec": {
   "display_name": "Python 3 (ipykernel)",
   "language": "python",
   "name": "python3"
  },
  "language_info": {
   "codemirror_mode": {
    "name": "ipython",
    "version": 3
   },
   "file_extension": ".py",
   "mimetype": "text/x-python",
   "name": "python",
   "nbconvert_exporter": "python",
   "pygments_lexer": "ipython3",
   "version": "3.10.12"
  }
 },
 "nbformat": 4,
 "nbformat_minor": 5
}
