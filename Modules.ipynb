{
 "cells": [
  {
   "cell_type": "code",
   "execution_count": 8,
   "id": "d4790db3",
   "metadata": {},
   "outputs": [],
   "source": [
    "#Functions without Arguments \n",
    "def wish():\n",
    "    return('happy birthday')\n"
   ]
  },
  {
   "cell_type": "code",
   "execution_count": 9,
   "id": "62dd1061",
   "metadata": {},
   "outputs": [
    {
     "data": {
      "text/plain": [
       "'happy birthday'"
      ]
     },
     "execution_count": 9,
     "metadata": {},
     "output_type": "execute_result"
    }
   ],
   "source": [
    "wish()"
   ]
  },
  {
   "cell_type": "code",
   "execution_count": 5,
   "id": "ca4e3657",
   "metadata": {},
   "outputs": [
    {
     "ename": "ModuleNotFoundError",
     "evalue": "No module named 'FUNCTION'",
     "output_type": "error",
     "traceback": [
      "\u001b[0;31m---------------------------------------------------------------------------\u001b[0m",
      "\u001b[0;31mModuleNotFoundError\u001b[0m                       Traceback (most recent call last)",
      "\u001b[0;32m/tmp/ipykernel_5075/2883839810.py\u001b[0m in \u001b[0;36m<module>\u001b[0;34m\u001b[0m\n\u001b[0;32m----> 1\u001b[0;31m \u001b[0;32mimport\u001b[0m \u001b[0mFUNCTION\u001b[0m\u001b[0;34m.\u001b[0m\u001b[0mpy\u001b[0m\u001b[0;34m\u001b[0m\u001b[0;34m\u001b[0m\u001b[0m\n\u001b[0m\u001b[1;32m      2\u001b[0m \u001b[0mprint\u001b[0m\u001b[0;34m(\u001b[0m\u001b[0mFUNCTION\u001b[0m\u001b[0;34m.\u001b[0m\u001b[0mwish\u001b[0m\u001b[0;34m(\u001b[0m\u001b[0;34m)\u001b[0m\u001b[0;34m)\u001b[0m\u001b[0;34m\u001b[0m\u001b[0;34m\u001b[0m\u001b[0m\n",
      "\u001b[0;31mModuleNotFoundError\u001b[0m: No module named 'FUNCTION'"
     ]
    }
   ],
   "source": [
    "import FUNCTION\n",
    "print(FUNCTION.wish())"
   ]
  },
  {
   "cell_type": "code",
   "execution_count": 4,
   "id": "051f66c4",
   "metadata": {},
   "outputs": [
    {
     "data": {
      "text/plain": [
       "['.ipynb_checkpoints',\n",
       " 'arithmetics.ipynb',\n",
       " 'Untitled2.ipynb',\n",
       " 'quirky programs from gpt.ipynb',\n",
       " '.idea',\n",
       " 'String.ipynb',\n",
       " 'TUPLES.ipynb',\n",
       " 'pycharm',\n",
       " 'Untitled.ipynb',\n",
       " 'Untitled1.ipynb',\n",
       " 'FUNCTION.py.ipynb',\n",
       " 'LOOPS.ipynb',\n",
       " 'Control Statements.ipynb',\n",
       " 'Rithu_boy.py',\n",
       " 'hello_world.py',\n",
       " 'learning_python_notebook.ipynb',\n",
       " 'python',\n",
       " 'Modules.ipynb',\n",
       " 'Data Types and Type Conversion.ipynb',\n",
       " 'LIST.ipynb']"
      ]
     },
     "execution_count": 4,
     "metadata": {},
     "output_type": "execute_result"
    }
   ],
   "source": [
    "import os\n",
    "path=r'/home/pratheba/Documents/learning_python'\n",
    "os.walk(str(path))\n",
    "os.listdir(path)"
   ]
  },
  {
   "cell_type": "code",
   "execution_count": 3,
   "id": "a439f051",
   "metadata": {},
   "outputs": [
    {
     "data": {
      "text/plain": [
       "'/home/pratheba/Documents/learning_python'"
      ]
     },
     "execution_count": 3,
     "metadata": {},
     "output_type": "execute_result"
    }
   ],
   "source": [
    "pwd"
   ]
  },
  {
   "cell_type": "code",
   "execution_count": null,
   "id": "6b99e775",
   "metadata": {},
   "outputs": [],
   "source": []
  }
 ],
 "metadata": {
  "kernelspec": {
   "display_name": "Python 3 (ipykernel)",
   "language": "python",
   "name": "python3"
  },
  "language_info": {
   "codemirror_mode": {
    "name": "ipython",
    "version": 3
   },
   "file_extension": ".py",
   "mimetype": "text/x-python",
   "name": "python",
   "nbconvert_exporter": "python",
   "pygments_lexer": "ipython3",
   "version": "3.10.12"
  }
 },
 "nbformat": 4,
 "nbformat_minor": 5
}
