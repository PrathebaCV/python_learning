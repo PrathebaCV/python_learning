{
 "cells": [
  {
   "cell_type": "code",
   "execution_count": 1,
   "id": "9e939ed4",
   "metadata": {},
   "outputs": [
    {
     "name": "stdout",
     "output_type": "stream",
     "text": [
      "Original: Python, Reversed: nohtyP\n"
     ]
    }
   ],
   "source": [
    "# Reverse a string using a for loop\n",
    "text = \"Python\"\n",
    "reversed_text = \"\"\n",
    "for char in text:\n",
    "    reversed_text = char + reversed_text\n",
    "print(f\"Original: {text}, Reversed: {reversed_text}\")\n"
   ]
  },
  {
   "cell_type": "code",
   "execution_count": 8,
   "id": "0bc0d671",
   "metadata": {},
   "outputs": [
    {
     "name": "stdout",
     "output_type": "stream",
     "text": [
      "The number of vowels in the sentence is 0\n",
      "The number of vowels in the sentence is 1\n",
      "The number of vowels in the sentence is 1\n",
      "The number of vowels in the sentence is 1\n",
      "The number of vowels in the sentence is 2\n",
      "The number of vowels in the sentence is 2\n",
      "The number of vowels in the sentence is 2\n",
      "The number of vowels in the sentence is 2\n",
      "The number of vowels in the sentence is 2\n",
      "The number of vowels in the sentence is 3\n",
      "The number of vowels in the sentence is 3\n",
      "The number of vowels in the sentence is 3\n",
      "The number of vowels in the sentence is 4\n"
     ]
    }
   ],
   "source": [
    "sentence=\"London bridge\"\n",
    "vowels='aeiou'\n",
    "count=0\n",
    "for char in sentence.lower():\n",
    "    if char in vowels:\n",
    "        count+=1\n",
    "    print(\"The number of vowels in the sentence is\", count)"
   ]
  },
  {
   "cell_type": "code",
   "execution_count": null,
   "id": "d68a355c",
   "metadata": {},
   "outputs": [],
   "source": []
  }
 ],
 "metadata": {
  "kernelspec": {
   "display_name": "Python 3 (ipykernel)",
   "language": "python",
   "name": "python3"
  },
  "language_info": {
   "codemirror_mode": {
    "name": "ipython",
    "version": 3
   },
   "file_extension": ".py",
   "mimetype": "text/x-python",
   "name": "python",
   "nbconvert_exporter": "python",
   "pygments_lexer": "ipython3",
   "version": "3.10.12"
  }
 },
 "nbformat": 4,
 "nbformat_minor": 5
}
