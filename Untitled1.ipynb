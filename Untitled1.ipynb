{
 "cells": [
  {
   "cell_type": "code",
   "execution_count": null,
   "id": "7ad42151",
   "metadata": {},
   "outputs": [],
   "source": [
    "age=18\n",
    "weight=50\n",
    "if age==18 and weight==50:\n",
    "    print('SELECTED')"
   ]
  },
  {
   "cell_type": "code",
   "execution_count": null,
   "id": "388a265a",
   "metadata": {},
   "outputs": [],
   "source": [
    "age=18\n",
    "weight=5\n",
    "if age==18 or weight==50:\n",
    "    print('SELECTED')"
   ]
  },
  {
   "cell_type": "code",
   "execution_count": null,
   "id": "fd5647ad",
   "metadata": {},
   "outputs": [],
   "source": [
    "age=8\n",
    "weight=5\n",
    "if age==18 or weight==50:\n",
    "    print('SELECTED')"
   ]
  },
  {
   "cell_type": "code",
   "execution_count": null,
   "id": "d345286b",
   "metadata": {},
   "outputs": [],
   "source": [
    "age=8\n",
    "weight=50\n",
    "if age==18 or weight==50:\n",
    "    print('SELECTED')"
   ]
  },
  {
   "cell_type": "code",
   "execution_count": null,
   "id": "b08cf573",
   "metadata": {},
   "outputs": [],
   "source": [
    "age=8\n",
    "weight=5\n",
    "if age==18 or weight==50:\n",
    "    print('SELECTED')\n",
    "else:\n",
    "    print('REJECTED')"
   ]
  },
  {
   "cell_type": "code",
   "execution_count": null,
   "id": "d0860f95",
   "metadata": {},
   "outputs": [],
   "source": [
    "age=input()\n",
    "weight=input()\n",
    "\n",
    "if age==18 and weight==50:\n",
    "    print('SELECTED')\n",
    "else:\n",
    "    print('REJECTED')"
   ]
  },
  {
   "cell_type": "code",
   "execution_count": null,
   "id": "52097653",
   "metadata": {},
   "outputs": [],
   "source": [
    "physics,chemistry,maths=188,198,196\n",
    "if physics>chemistry and physics>maths:\n",
    "    print('Physics is Greater')\n",
    "elif chemistry>physics and chemistry>maths:\n",
    "    print('Chemistry is Greater')\n",
    "else:\n",
    "    print('Maths is Greater')"
   ]
  },
  {
   "cell_type": "code",
   "execution_count": 1,
   "id": "3f208a49",
   "metadata": {},
   "outputs": [
    {
     "ename": "SyntaxError",
     "evalue": "invalid syntax (996940517.py, line 3)",
     "output_type": "error",
     "traceback": [
      "\u001b[0;36m  File \u001b[0;32m\"/tmp/ipykernel_5334/996940517.py\"\u001b[0;36m, line \u001b[0;32m3\u001b[0m\n\u001b[0;31m    f=ZipFile('Text.zip','w') W\u001b[0m\n\u001b[0m                              ^\u001b[0m\n\u001b[0;31mSyntaxError\u001b[0m\u001b[0;31m:\u001b[0m invalid syntax\n"
     ]
    }
   ],
   "source": [
    "from zipfile import *\n",
    "\n",
    "f=ZipFile('Text.zip','w') W\n",
    "\n",
    "f.write('text1.txt')\n",
    "\n",
    "f.write('text2.txt')\n",
    "\n",
    "f.write('text3.txt')\n"
   ]
  },
  {
   "cell_type": "code",
   "execution_count": 2,
   "id": "872b4332",
   "metadata": {},
   "outputs": [
    {
     "ename": "FileNotFoundError",
     "evalue": "[Errno 2] No such file or directory: 'Exception hier.png'",
     "output_type": "error",
     "traceback": [
      "\u001b[0;31m---------------------------------------------------------------------------\u001b[0m",
      "\u001b[0;31mFileNotFoundError\u001b[0m                         Traceback (most recent call last)",
      "\u001b[0;32m/tmp/ipykernel_5334/3392315767.py\u001b[0m in \u001b[0;36m<module>\u001b[0;34m\u001b[0m\n\u001b[0;32m----> 1\u001b[0;31m \u001b[0mf\u001b[0m\u001b[0;34m=\u001b[0m\u001b[0mopen\u001b[0m\u001b[0;34m(\u001b[0m\u001b[0;34m'Exception hier.png'\u001b[0m\u001b[0;34m,\u001b[0m\u001b[0;34m'rb'\u001b[0m\u001b[0;34m)\u001b[0m\u001b[0;34m\u001b[0m\u001b[0;34m\u001b[0m\u001b[0m\n\u001b[0m\u001b[1;32m      2\u001b[0m \u001b[0;34m\u001b[0m\u001b[0m\n\u001b[1;32m      3\u001b[0m \u001b[0mf1\u001b[0m\u001b[0;34m=\u001b[0m\u001b[0mopen\u001b[0m\u001b[0;34m(\u001b[0m\u001b[0;34m'Exception hier1.png'\u001b[0m\u001b[0;34m,\u001b[0m\u001b[0;34m'wb'\u001b[0m\u001b[0;34m)\u001b[0m\u001b[0;34m\u001b[0m\u001b[0;34m\u001b[0m\u001b[0m\n\u001b[1;32m      4\u001b[0m \u001b[0;34m\u001b[0m\u001b[0m\n\u001b[1;32m      5\u001b[0m \u001b[0;31m#to copy\u001b[0m\u001b[0;34m\u001b[0m\u001b[0;34m\u001b[0m\u001b[0m\n",
      "\u001b[0;31mFileNotFoundError\u001b[0m: [Errno 2] No such file or directory: 'Exception hier.png'"
     ]
    }
   ],
   "source": [
    "f=open('Exception hier.png','rb')\n",
    "\n",
    "f1=open('Exception hier1.png','wb')\n",
    "\n",
    "#to copy\n",
    "\n",
    "a = f.read()\n",
    "\n",
    "print(a)\n",
    "\n",
    "print(type(a))\n",
    "\n",
    "#to paste\n",
    "\n",
    "f1.write(a)"
   ]
  },
  {
   "cell_type": "code",
   "execution_count": 8,
   "id": "e88457a8",
   "metadata": {},
   "outputs": [
    {
     "name": "stdout",
     "output_type": "stream",
     "text": [
      "100\n",
      "Ram\n",
      "us\n"
     ]
    }
   ],
   "source": [
    "class CompanyDetails:\n",
    "\n",
    "    def __init__(self):\n",
    "        self.id=100\n",
    "        self.name='Ram'\n",
    "        self.country='IND'\n",
    "\n",
    "    def m1(self):\n",
    "        print(self.id)\n",
    "        print(self.name)\n",
    "        print(self.country)\n",
    "\n",
    "c=CompanyDetails()\n",
    "c.country='us'\n",
    "c.m1()"
   ]
  },
  {
   "cell_type": "code",
   "execution_count": null,
   "id": "4bbc3f4e",
   "metadata": {},
   "outputs": [],
   "source": []
  }
 ],
 "metadata": {
  "kernelspec": {
   "display_name": "Python 3 (ipykernel)",
   "language": "python",
   "name": "python3"
  },
  "language_info": {
   "codemirror_mode": {
    "name": "ipython",
    "version": 3
   },
   "file_extension": ".py",
   "mimetype": "text/x-python",
   "name": "python",
   "nbconvert_exporter": "python",
   "pygments_lexer": "ipython3",
   "version": "3.10.12"
  }
 },
 "nbformat": 4,
 "nbformat_minor": 5
}
