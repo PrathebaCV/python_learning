{
 "cells": [
  {
   "cell_type": "markdown",
   "id": "18a81f3e",
   "metadata": {},
   "source": [
    "Group of statements/Block of statements\n",
    "\n",
    "It is declared out of class\n",
    "\n",
    "FUNCTION DECLARATION:\n",
    "\n",
    "def function_name():\n",
    "    -Statement\n",
    "    \n",
    "FUNCTION CALLING:\n",
    "    function_name()\n",
    "    \n",
    "TYPES\n",
    "    1. Functions without Arguments\n",
    "    2. Function with arguments\n",
    "    3. Function without return type\n",
    "    4. Function with return type\n",
    "        *Single*\n",
    "        *Multiple*\n",
    "    5. Functions with keyword Arguments\n",
    "    6. Functions with default Arguments\n",
    "    7. Functions with variable length\n",
    "    8. Functions with variable length and keyword Arguments\n",
    "    "
   ]
  },
  {
   "cell_type": "code",
   "execution_count": null,
   "id": "7ba6b81b",
   "metadata": {},
   "outputs": [],
   "source": [
    "#Functions without Arguments \n",
    "def wish():\n",
    "    print('happy birthday')\n",
    "wish()"
   ]
  },
  {
   "cell_type": "code",
   "execution_count": 3,
   "id": "d0caae36",
   "metadata": {},
   "outputs": [
    {
     "name": "stdout",
     "output_type": "stream",
     "text": [
      "6\n"
     ]
    }
   ],
   "source": [
    "#Function with argument\n",
    "def multi(a,b):#FILTER, MAP, REDUCE\n",
    "    c=a*b\n",
    "    print(c)\n",
    "multi(2,3)\n"
   ]
  },
  {
   "cell_type": "code",
   "execution_count": 4,
   "id": "60c4414e",
   "metadata": {},
   "outputs": [
    {
     "name": "stdout",
     "output_type": "stream",
     "text": [
      "4.0\n",
      "4.0\n",
      "<class 'NoneType'>\n"
     ]
    }
   ],
   "source": [
    "#Function without return type\n",
    "def div(a,b):\n",
    "    c=a/b\n",
    "    print(c)\n",
    "div(8,2)\n",
    "l=div(8,2)\n",
    "print(type(l))"
   ]
  },
  {
   "cell_type": "code",
   "execution_count": 15,
   "id": "5d362ef0",
   "metadata": {},
   "outputs": [
    {
     "name": "stdout",
     "output_type": "stream",
     "text": [
      "36.0\n",
      "<class 'float'>\n"
     ]
    }
   ],
   "source": [
    "#Function with return type\n",
    "def lulu(x,y):\n",
    "    z=(x*y)/(x/y)\n",
    "    print(z)\n",
    "    return z\n",
    "m=lulu(3,6)s\n",
    "print(type(m))\n"
   ]
  },
  {
   "cell_type": "code",
   "execution_count": 18,
   "id": "f4b2b668",
   "metadata": {},
   "outputs": [
    {
     "name": "stdout",
     "output_type": "stream",
     "text": [
      "I have completed B.Sc with  95 percent marks\n"
     ]
    }
   ],
   "source": [
    "#Functions with keywords arguments\n",
    "def lala(degree,percentage):\n",
    "    print(\"I have completed\",degree,\"with \",percentage, \"percent marks\")\n",
    "lala('B.Sc',95)"
   ]
  },
  {
   "cell_type": "code",
   "execution_count": 21,
   "id": "8c79441b",
   "metadata": {},
   "outputs": [
    {
     "name": "stdout",
     "output_type": "stream",
     "text": [
      "I have completed B.Sc with  96 percent marks\n",
      "I have completed B.Sc with  95 percent marks\n"
     ]
    }
   ],
   "source": [
    "#Functions with default arguments\n",
    "def lala(degree,percentage=None):\n",
    "    print(\"I have completed\",degree,\"with \",percentage, \"percent marks\")\n",
    "lala('B.Sc',96)\n",
    "\n",
    "def lala(degree,percentage=68):\n",
    "    print(\"I have completed\",degree,\"with \",percentage, \"percent marks\")\n",
    "lala('B.Sc',95)"
   ]
  },
  {
   "cell_type": "code",
   "execution_count": 22,
   "id": "92a20bc5",
   "metadata": {},
   "outputs": [
    {
     "name": "stdout",
     "output_type": "stream",
     "text": [
      "('Rani', 35, 'CHennai 96')\n"
     ]
    }
   ],
   "source": [
    "#Functions with variable length\n",
    "def details(*info):\n",
    "    return info\n",
    "a=details('Rani', 35, 'CHennai 96')\n",
    "print(a)"
   ]
  },
  {
   "cell_type": "code",
   "execution_count": 23,
   "id": "344e2762",
   "metadata": {},
   "outputs": [
    {
     "name": "stdout",
     "output_type": "stream",
     "text": [
      "{'Name': 'Rani', 'Age': 35, 'Place': 'CHennai 96'}\n"
     ]
    }
   ],
   "source": [
    "#Functions with variable length\n",
    "def details(**info):\n",
    "    return info\n",
    "a=details(Name='Rani', Age=35, Place='CHennai 96')\n",
    "print(a)"
   ]
  },
  {
   "cell_type": "code",
   "execution_count": 29,
   "id": "8dc3272b",
   "metadata": {},
   "outputs": [
    {
     "name": "stdout",
     "output_type": "stream",
     "text": [
      "6\n"
     ]
    }
   ],
   "source": [
    "#Anonymous Function\n",
    "#variable_name=lambda i/p:expression\n",
    "\n",
    "#normal function\n",
    "def multi(a,b):\n",
    "    c=a*b\n",
    "    print(c)\n",
    "multi(2,3)\n",
    "\n"
   ]
  },
  {
   "cell_type": "code",
   "execution_count": 33,
   "id": "a426cf27",
   "metadata": {},
   "outputs": [
    {
     "name": "stdout",
     "output_type": "stream",
     "text": [
      "6\n"
     ]
    }
   ],
   "source": [
    "#Anonymous Function\n",
    "#if we use parantheses for argument values in function declaration, error pops up. leave the numbers as it is.\n",
    "c=lambda a,b:a*b\n",
    "print(c(2,3))"
   ]
  },
  {
   "cell_type": "code",
   "execution_count": 38,
   "id": "e45573ef",
   "metadata": {},
   "outputs": [
    {
     "name": "stdout",
     "output_type": "stream",
     "text": [
      "[10, 20, 30, 40, 50, 60, 70, 80, 90, 100]\n"
     ]
    }
   ],
   "source": [
    "#FILTER, MAP, REDUCE\n",
    "\n",
    "s=[5,10,15,20,25,30,35,40,45,50,55,60,65,70,75,80,85,90,95,100]\n",
    "\n",
    "#filter\n",
    "x=filter(lambda a: a%10==0,s)\n",
    "print(list(x))"
   ]
  },
  {
   "cell_type": "code",
   "execution_count": 39,
   "id": "878c6c4c",
   "metadata": {},
   "outputs": [
    {
     "name": "stdout",
     "output_type": "stream",
     "text": [
      "[1.0, 2.0, 3.0, 4.0, 5.0, 6.0, 7.0, 8.0, 9.0, 10.0, 11.0, 12.0, 13.0, 14.0, 15.0, 16.0, 17.0, 18.0, 19.0, 20.0]\n"
     ]
    }
   ],
   "source": [
    "s=[5,10,15,20,25,30,35,40,45,50,55,60,65,70,75,80,85,90,95,100]\n",
    "\n",
    "#map\n",
    "y=map(lambda b:b/5,s)\n",
    "print(list(y))"
   ]
  },
  {
   "cell_type": "code",
   "execution_count": 44,
   "id": "0341bf72",
   "metadata": {},
   "outputs": [
    {
     "name": "stdout",
     "output_type": "stream",
     "text": [
      "1050\n"
     ]
    }
   ],
   "source": [
    "s=[5,10,15,20,25,30,35,40,45,50,55,60,65,70,75,80,85,90,95,100]\n",
    "\n",
    "#reduce\n",
    "z = reduce(lambda c,d:c+d,s)\n",
    "print(z)"
   ]
  },
  {
   "cell_type": "code",
   "execution_count": 1,
   "id": "090ffa52",
   "metadata": {},
   "outputs": [
    {
     "data": {
      "text/plain": [
       "'/home/pratheba/Documents/learning_python'"
      ]
     },
     "execution_count": 1,
     "metadata": {},
     "output_type": "execute_result"
    }
   ],
   "source": [
    "pwd"
   ]
  },
  {
   "cell_type": "code",
   "execution_count": null,
   "id": "16f57e1e",
   "metadata": {},
   "outputs": [],
   "source": []
  }
 ],
 "metadata": {
  "kernelspec": {
   "display_name": "Python 3 (ipykernel)",
   "language": "python",
   "name": "python3"
  },
  "language_info": {
   "codemirror_mode": {
    "name": "ipython",
    "version": 3
   },
   "file_extension": ".py",
   "mimetype": "text/x-python",
   "name": "python",
   "nbconvert_exporter": "python",
   "pygments_lexer": "ipython3",
   "version": "3.10.12"
  }
 },
 "nbformat": 4,
 "nbformat_minor": 5
}
