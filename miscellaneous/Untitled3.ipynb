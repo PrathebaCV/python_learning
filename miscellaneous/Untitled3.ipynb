{
 "cells": [
  {
   "cell_type": "code",
   "execution_count": 3,
   "id": "e775c093",
   "metadata": {},
   "outputs": [
    {
     "name": "stdout",
     "output_type": "stream",
     "text": [
      "Perimeter: 30\n",
      "Square of PlotB (cd): 60\n",
      "Total Area: 260\n"
     ]
    }
   ],
   "source": [
    "class PlotA:\n",
    "    def __init__(self):\n",
    "        self.a = 10\n",
    "        self.b = 20\n",
    "\n",
    "class PlotB:\n",
    "    def __init__(self):  \n",
    "        self.c = 20\n",
    "        self.d = 3\n",
    "\n",
    "class Landsurvey(PlotA):\n",
    "    def add(self):\n",
    "        return self.a + self.b\n",
    "    \n",
    "    def square(self):\n",
    "        return self.a *self.b\n",
    "\n",
    "class Square(Landsurvey, PlotB):\n",
    "    def __init__(self):\n",
    "        # Initialize both parent classes\n",
    "        PlotA.__init__(self)\n",
    "        PlotB.__init__(self)\n",
    "        \n",
    "    def square(self):\n",
    "        return self.c *self.d\n",
    "    \n",
    "    def totarea(self):\n",
    "        # Use the square methods from both plots\n",
    "        t = super().square()  # From Landsurvey (a^2)\n",
    "        r = self.square()     # From Square (c^2)\n",
    "        return t + r\n",
    "\n",
    "# Create instances\n",
    "Peri = Landsurvey()\n",
    "Area = Square()\n",
    "\n",
    "# Call methods\n",
    "print(\"Perimeter:\", Peri.add())        \n",
    "print(\"Square of PlotB (cd):\", Area.square()) \n",
    "print(\"Total Area:\", Area.totarea())\n"
   ]
  },
  {
   "cell_type": "code",
   "execution_count": null,
   "id": "7a284b59",
   "metadata": {},
   "outputs": [],
   "source": []
  }
 ],
 "metadata": {
  "kernelspec": {
   "display_name": "Python 3 (ipykernel)",
   "language": "python",
   "name": "python3"
  },
  "language_info": {
   "codemirror_mode": {
    "name": "ipython",
    "version": 3
   },
   "file_extension": ".py",
   "mimetype": "text/x-python",
   "name": "python",
   "nbconvert_exporter": "python",
   "pygments_lexer": "ipython3",
   "version": "3.10.12"
  }
 },
 "nbformat": 4,
 "nbformat_minor": 5
}
