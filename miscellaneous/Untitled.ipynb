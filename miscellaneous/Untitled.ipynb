{
 "cells": [
  {
   "cell_type": "code",
   "execution_count": 1,
   "id": "3668d1b5",
   "metadata": {},
   "outputs": [
    {
     "name": "stdout",
     "output_type": "stream",
     "text": [
      "hello\n"
     ]
    }
   ],
   "source": [
    "print(\"hello\")"
   ]
  },
  {
   "cell_type": "code",
   "execution_count": 2,
   "id": "3488ef98",
   "metadata": {},
   "outputs": [],
   "source": [
    "var_1 = 5"
   ]
  },
  {
   "cell_type": "code",
   "execution_count": 7,
   "id": "6c630597",
   "metadata": {},
   "outputs": [],
   "source": [
    "var_2 = 6"
   ]
  },
  {
   "cell_type": "code",
   "execution_count": 8,
   "id": "53e1a60b",
   "metadata": {},
   "outputs": [
    {
     "name": "stdout",
     "output_type": "stream",
     "text": [
      "11\n"
     ]
    }
   ],
   "source": [
    "print(var_1 + var_2)"
   ]
  },
  {
   "cell_type": "code",
   "execution_count": 5,
   "id": "2f870c27",
   "metadata": {},
   "outputs": [],
   "source": [
    "var_2 = 1"
   ]
  },
  {
   "cell_type": "code",
   "execution_count": null,
   "id": "f9774dae",
   "metadata": {},
   "outputs": [],
   "source": []
  }
 ],
 "metadata": {
  "kernelspec": {
   "display_name": "Python 3 (ipykernel)",
   "language": "python",
   "name": "python3"
  },
  "language_info": {
   "codemirror_mode": {
    "name": "ipython",
    "version": 3
   },
   "file_extension": ".py",
   "mimetype": "text/x-python",
   "name": "python",
   "nbconvert_exporter": "python",
   "pygments_lexer": "ipython3",
   "version": "3.10.12"
  }
 },
 "nbformat": 4,
 "nbformat_minor": 5
}
