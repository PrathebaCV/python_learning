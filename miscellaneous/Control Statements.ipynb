{
 "cells": [
  {
   "cell_type": "code",
   "execution_count": null,
   "id": "c6664fdf",
   "metadata": {},
   "outputs": [],
   "source": [
    "name =input()\n",
    "if name=='radha':\n",
    "    print('come in')\n",
    "else:\n",
    "    print('Your Name please')"
   ]
  },
  {
   "cell_type": "code",
   "execution_count": null,
   "id": "77e9e6e5",
   "metadata": {},
   "outputs": [],
   "source": [
    "degree =input()\n",
    "if degree=='B.E':\n",
    "    print('you can apply')\n",
    "elif degree=='M.E':\n",
    "    print('you can apply')\n",
    "else:\n",
    "    print('Not eligible')"
   ]
  },
  {
   "cell_type": "markdown",
   "id": "e30769ea",
   "metadata": {},
   "source": [
    "### FOR LOOP\n",
    "vowels"
   ]
  },
  {
   "cell_type": "code",
   "execution_count": null,
   "id": "6a4502ae",
   "metadata": {},
   "outputs": [],
   "source": [
    "mystring=\"reasoning\"\n",
    "vowels='aeiou'\n",
    "count=0\n",
    "for char in mystring:\n",
    "    if char in vowels:\n",
    "        count=count + 1\n",
    "print (count)"
   ]
  },
  {
   "cell_type": "code",
   "execution_count": null,
   "id": "4814cad5",
   "metadata": {},
   "outputs": [],
   "source": [
    "for g in range(10):\n",
    "    if g%2==0:\n",
    "        print(g,'even')\n",
    "    else:\n",
    "        print(g,'0dd')"
   ]
  },
  {
   "cell_type": "code",
   "execution_count": null,
   "id": "ae418bce",
   "metadata": {},
   "outputs": [],
   "source": [
    "#Write a program to print even number from 1 to 100 \n"
   ]
  },
  {
   "cell_type": "code",
   "execution_count": null,
   "id": "25342233",
   "metadata": {},
   "outputs": [],
   "source": [
    "for g in range(100):\n",
    "    if g%2==0:\n",
    "        print(g)"
   ]
  },
  {
   "cell_type": "code",
   "execution_count": null,
   "id": "b75230a2",
   "metadata": {},
   "outputs": [],
   "source": [
    "#Find the number of odd number 1 to 100\n"
   ]
  },
  {
   "cell_type": "code",
   "execution_count": null,
   "id": "58a2190c",
   "metadata": {},
   "outputs": [],
   "source": [
    "count=0\n",
    "for g in range(100):\n",
    "    if g%2==0:\n",
    "        continue\n",
    "    else:\n",
    "        count=count+1\n",
    "print(count)"
   ]
  },
  {
   "cell_type": "code",
   "execution_count": null,
   "id": "4bd17913",
   "metadata": {},
   "outputs": [],
   "source": [
    "#Find the sum of odd number 1 to 100\n"
   ]
  },
  {
   "cell_type": "code",
   "execution_count": 2,
   "id": "dc49dc85",
   "metadata": {},
   "outputs": [
    {
     "name": "stdout",
     "output_type": "stream",
     "text": [
      "2500\n"
     ]
    }
   ],
   "source": [
    "sum=0\n",
    "for g in range(100):\n",
    "    if g%2==0:\n",
    "        continue\n",
    "    else:\n",
    "        sum=sum+g\n",
    "print(sum)"
   ]
  },
  {
   "cell_type": "code",
   "execution_count": 3,
   "id": "5ba76a06",
   "metadata": {},
   "outputs": [],
   "source": [
    "#Write a program to find the factorial of a number.\n"
   ]
  },
  {
   "cell_type": "code",
   "execution_count": 7,
   "id": "b17869b5",
   "metadata": {},
   "outputs": [
    {
     "name": "stdout",
     "output_type": "stream",
     "text": [
      "Enter a Positive Integer:6\n",
      "36\n"
     ]
    }
   ],
   "source": [
    "n=int(input('Enter a Positive Integer:'))\n",
    "for i in range(i,n+1):\n",
    "    f=i*i\n",
    "\n",
    "print(f)"
   ]
  },
  {
   "cell_type": "code",
   "execution_count": null,
   "id": "3ed94a8f",
   "metadata": {},
   "outputs": [],
   "source": []
  }
 ],
 "metadata": {
  "kernelspec": {
   "display_name": "Python 3 (ipykernel)",
   "language": "python",
   "name": "python3"
  },
  "language_info": {
   "codemirror_mode": {
    "name": "ipython",
    "version": 3
   },
   "file_extension": ".py",
   "mimetype": "text/x-python",
   "name": "python",
   "nbconvert_exporter": "python",
   "pygments_lexer": "ipython3",
   "version": "3.10.12"
  }
 },
 "nbformat": 4,
 "nbformat_minor": 5
}
