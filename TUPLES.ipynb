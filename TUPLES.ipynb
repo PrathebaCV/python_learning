{
 "cells": [
  {
   "cell_type": "code",
   "execution_count": 2,
   "id": "675699ab",
   "metadata": {},
   "outputs": [],
   "source": [
    "#tuples"
   ]
  },
  {
   "cell_type": "code",
   "execution_count": 3,
   "id": "d8ff93b8",
   "metadata": {},
   "outputs": [
    {
     "name": "stdout",
     "output_type": "stream",
     "text": [
      "(1, 3, 'hi', (2, 3), 2.5)\n"
     ]
    }
   ],
   "source": [
    "t=(1,3,'hi',(2,3),2.5)\n",
    "print(t)"
   ]
  },
  {
   "cell_type": "code",
   "execution_count": 4,
   "id": "3534055f",
   "metadata": {},
   "outputs": [
    {
     "name": "stdout",
     "output_type": "stream",
     "text": [
      "('hi', (2, 3), 2.5)\n"
     ]
    }
   ],
   "source": [
    "#SLICE OPERATOR\n",
    "print(t[2:])"
   ]
  },
  {
   "cell_type": "markdown",
   "id": "dd76150b",
   "metadata": {},
   "source": [
    "\n",
    "- Slice operator\n",
    "- count()\n",
    "- max()\n",
    "- min()"
   ]
  },
  {
   "cell_type": "code",
   "execution_count": 6,
   "id": "607ee3a7",
   "metadata": {},
   "outputs": [
    {
     "data": {
      "text/plain": [
       "5"
      ]
     },
     "execution_count": 6,
     "metadata": {},
     "output_type": "execute_result"
    }
   ],
   "source": [
    "len(t)"
   ]
  },
  {
   "cell_type": "code",
   "execution_count": 7,
   "id": "9a974e8b",
   "metadata": {},
   "outputs": [
    {
     "data": {
      "text/plain": [
       "1"
      ]
     },
     "execution_count": 7,
     "metadata": {},
     "output_type": "execute_result"
    }
   ],
   "source": [
    "t.index(3)"
   ]
  },
  {
   "cell_type": "code",
   "execution_count": 8,
   "id": "b074138d",
   "metadata": {},
   "outputs": [
    {
     "data": {
      "text/plain": [
       "1"
      ]
     },
     "execution_count": 8,
     "metadata": {},
     "output_type": "execute_result"
    }
   ],
   "source": [
    "t.count(3)"
   ]
  },
  {
   "cell_type": "code",
   "execution_count": 9,
   "id": "25bdefc8",
   "metadata": {},
   "outputs": [
    {
     "data": {
      "text/plain": [
       "50"
      ]
     },
     "execution_count": 9,
     "metadata": {},
     "output_type": "execute_result"
    }
   ],
   "source": [
    "t=(20,30,40,50)\n",
    "max(t)"
   ]
  },
  {
   "cell_type": "code",
   "execution_count": 10,
   "id": "a5f75565",
   "metadata": {},
   "outputs": [
    {
     "data": {
      "text/plain": [
       "20"
      ]
     },
     "execution_count": 10,
     "metadata": {},
     "output_type": "execute_result"
    }
   ],
   "source": [
    "min(t)"
   ]
  },
  {
   "cell_type": "markdown",
   "id": "a0822481",
   "metadata": {},
   "source": [
    "SET \n",
    "\n",
    "- len()\n",
    "- add()\n",
    "- update()\n",
    "- remove()\n",
    "- discard()\n",
    "- pop()\n",
    "- copy()\n",
    "- clear()\n",
    "- sorted()\n",
    "- union()\n",
    "- intersection()\n",
    "- difference()\n",
    "- symettric_difference()\n"
   ]
  },
  {
   "cell_type": "code",
   "execution_count": 11,
   "id": "3d8cdb28",
   "metadata": {},
   "outputs": [
    {
     "name": "stdout",
     "output_type": "stream",
     "text": [
      "{50, 100, 20, 40, 10, 30}\n"
     ]
    }
   ],
   "source": [
    "s={20,30,40,20,40,50,10,100}\n",
    "print(s)"
   ]
  },
  {
   "cell_type": "code",
   "execution_count": 16,
   "id": "77e3b369",
   "metadata": {},
   "outputs": [],
   "source": [
    "a=s.add(70)"
   ]
  },
  {
   "cell_type": "code",
   "execution_count": 17,
   "id": "8607165d",
   "metadata": {},
   "outputs": [
    {
     "name": "stdout",
     "output_type": "stream",
     "text": [
      "{50, 100, 20, 70, 40, 10, 30}\n"
     ]
    }
   ],
   "source": [
    "print(s)"
   ]
  },
  {
   "cell_type": "code",
   "execution_count": null,
   "id": "80cc38cc",
   "metadata": {},
   "outputs": [],
   "source": []
  },
  {
   "cell_type": "code",
   "execution_count": null,
   "id": "e302af0f",
   "metadata": {},
   "outputs": [],
   "source": []
  },
  {
   "cell_type": "code",
   "execution_count": null,
   "id": "645b008a",
   "metadata": {},
   "outputs": [],
   "source": []
  },
  {
   "cell_type": "code",
   "execution_count": null,
   "id": "50fb911a",
   "metadata": {},
   "outputs": [],
   "source": []
  },
  {
   "cell_type": "code",
   "execution_count": null,
   "id": "1cb7d905",
   "metadata": {},
   "outputs": [],
   "source": []
  },
  {
   "cell_type": "code",
   "execution_count": null,
   "id": "433055b5",
   "metadata": {},
   "outputs": [],
   "source": []
  }
 ],
 "metadata": {
  "kernelspec": {
   "display_name": "Python 3 (ipykernel)",
   "language": "python",
   "name": "python3"
  },
  "language_info": {
   "codemirror_mode": {
    "name": "ipython",
    "version": 3
   },
   "file_extension": ".py",
   "mimetype": "text/x-python",
   "name": "python",
   "nbconvert_exporter": "python",
   "pygments_lexer": "ipython3",
   "version": "3.10.12"
  }
 },
 "nbformat": 4,
 "nbformat_minor": 5
}
